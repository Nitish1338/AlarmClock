{
 "cells": [
  {
   "cell_type": "code",
   "execution_count": null,
   "id": "b7f2702a",
   "metadata": {},
   "outputs": [],
   "source": [
    "import tkinter as tk\n",
    "from tkinter import messagebox\n",
    "from datetime import datetime, time\n",
    "\n",
    "def set_alarm():\n",
    "    alarm_time = entry.get()\n",
    "    try:\n",
    "        alarm_hour, alarm_minute = map(int, alarm_time.split(':'))\n",
    "        now = datetime.now()\n",
    "        alarm = datetime(now.year, now.month, now.day, alarm_hour, alarm_minute)\n",
    "\n",
    "        if alarm < now:\n",
    "            alarm = alarm.replace(day=now.day + 1)  # Set the alarm for the next day if it's already passed for today\n",
    "\n",
    "        time_difference = alarm - now\n",
    "        seconds_until_alarm = time_difference.total_seconds()\n",
    "\n",
    "        root.after(int(seconds_until_alarm * 1000), sound_alarm)  # Schedule the alarm sound\n",
    "        messagebox.showinfo(\"Alarm Set\", f\"Alarm set for {alarm_time}\")\n",
    "\n",
    "        entry.delete(0, tk.END)  # Clear the entry box after displaying the result\n",
    "    except ValueError:\n",
    "        messagebox.showerror(\"Error\", \"Please enter time in HH:MM format\")\n",
    "\n",
    "def sound_alarm():\n",
    "    messagebox.showinfo(\"Alarm\", \"Wake up!\")\n",
    "\n",
    "root = tk.Tk()\n",
    "root.title(\"Alarm Clock\")\n",
    "\n",
    "label = tk.Label(root, text=\"Enter alarm time (HH:MM):\")\n",
    "label.pack()\n",
    "\n",
    "entry = tk.Entry(root)\n",
    "entry.pack()\n",
    "\n",
    "button = tk.Button(root, text=\"Set Alarm\", command=set_alarm)\n",
    "button.pack()\n",
    "\n",
    "root.mainloop()\n"
   ]
  },
  {
   "cell_type": "code",
   "execution_count": null,
   "id": "bbc7e37b",
   "metadata": {},
   "outputs": [],
   "source": []
  },
  {
   "cell_type": "code",
   "execution_count": null,
   "id": "97717793",
   "metadata": {},
   "outputs": [],
   "source": []
  }
 ],
 "metadata": {
  "kernelspec": {
   "display_name": "Python 3 (ipykernel)",
   "language": "python",
   "name": "python3"
  },
  "language_info": {
   "codemirror_mode": {
    "name": "ipython",
    "version": 3
   },
   "file_extension": ".py",
   "mimetype": "text/x-python",
   "name": "python",
   "nbconvert_exporter": "python",
   "pygments_lexer": "ipython3",
   "version": "3.11.5"
  }
 },
 "nbformat": 4,
 "nbformat_minor": 5
}
